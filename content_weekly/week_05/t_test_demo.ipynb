{
 "cells": [
  {
   "cell_type": "code",
   "execution_count": 86,
   "id": "4707d9f8",
   "metadata": {},
   "outputs": [],
   "source": [
    "import numpy as np\n",
    "import matplotlib.pyplot as plt\n",
    "import pandas as pd\n",
    "\n",
    "import scipy"
   ]
  },
  {
   "cell_type": "code",
   "execution_count": 87,
   "id": "8aba384c",
   "metadata": {},
   "outputs": [],
   "source": [
    "size = 100\n",
    "sample_1 = np.random.normal(0, size=size)\n",
    "sample_2 = np.random.normal(3, size=size)"
   ]
  },
  {
   "cell_type": "code",
   "execution_count": 88,
   "id": "c7bf4fca",
   "metadata": {},
   "outputs": [
    {
     "data": {
      "text/plain": [
       "(array([ 3.,  7., 19., 21., 17., 16., 12.,  3.,  1.,  1.]),\n",
       " array([1.07777649, 1.56968162, 2.06158675, 2.55349188, 3.04539702,\n",
       "        3.53730215, 4.02920728, 4.52111241, 5.01301754, 5.50492268,\n",
       "        5.99682781]),\n",
       " <BarContainer object of 10 artists>)"
      ]
     },
     "execution_count": 88,
     "metadata": {},
     "output_type": "execute_result"
    },
    {
     "data": {
      "image/png": "[encoded data removed]",
      "text/plain": [
       "<Figure size 640x480 with 1 Axes>"
      ]
     },
     "metadata": {},
     "output_type": "display_data"
    }
   ],
   "source": [
    "plt.hist(sample_1)\n",
    "plt.hist(sample_2,alpha=0.7)"
   ]
  },
  {
   "cell_type": "code",
   "execution_count": 89,
   "id": "a98dd6f2",
   "metadata": {},
   "outputs": [
    {
     "name": "stdout",
     "output_type": "stream",
     "text": [
      "0.8255210533348348\n",
      "-23.94165752448975\n"
     ]
    }
   ],
   "source": [
    "x1 = np.mean(sample_1)\n",
    "x2 = np.mean(sample_2)\n",
    "n1 = len(sample_1)\n",
    "n2 = len(sample_2)\n",
    "sx1 = np.var(sample_1,ddof=1)\n",
    "sx2 = np.var(sample_2,ddof=1)\n",
    "\n",
    "print(sx2)\n",
    "\n",
    "def sp(n1, n2, sx1, sx2):\n",
    "    return np.sqrt((((n1-1)*(sx1)) + ((n2-1)*(sx2))) / (n1 + n2 - 2))\n",
    "\n",
    "sp = sp(n1, n2, sx1, sx2)\n",
    "\n",
    "def t_stat(x1, x2, sp, n1, n2):\n",
    "    return (x1-x2)/(sp*(((1/n1)+(1/n2))**(1/2)))\n",
    "\n",
    "print(t_stat(x1, x2, sp, n1, n2))"
   ]
  },
  {
   "cell_type": "code",
   "execution_count": 90,
   "id": "4bf9f7b0",
   "metadata": {},
   "outputs": [
    {
     "data": {
      "text/plain": [
       "TtestResult(statistic=np.float64(-23.94165752448975), pvalue=np.float64(2.2745516388618536e-60), df=np.float64(198.0))"
      ]
     },
     "execution_count": 90,
     "metadata": {},
     "output_type": "execute_result"
    }
   ],
   "source": [
    "scipy.stats.ttest_ind(sample_1,sample_2)"
   ]
  },
  {
   "cell_type": "code",
   "execution_count": 104,
   "id": "b28691da",
   "metadata": {},
   "outputs": [
    {
     "data": {
      "text/plain": [
       "TtestResult(statistic=np.float64(4.125167424299875), pvalue=np.float64(0.00015366866640778313), df=np.float64(46.0))"
      ]
     },
     "execution_count": 104,
     "metadata": {},
     "output_type": "execute_result"
    }
   ],
   "source": [
    "sheet_name = 'K-C and Rosetta Summary'\n",
    "df = pd.read_excel(\n",
    "    'Week 4 Lab Data.xlsx',sheet_name=sheet_name,header=1\n",
    "    )\n",
    "\n",
    "df_filtered = pd.DataFrame()\n",
    "for col in df.columns:\n",
    "    if 'Kozeny-Carmen' in col or 'Rosetta' in col:\n",
    "        new_colname = col.replace ('\\n', '')\n",
    "        df_filtered[new_colname] = df[col]\n",
    "\n",
    "df_filtered = df_filtered.dropna()\n",
    "\n",
    "col1, col2 = df_filtered.columns\n",
    "scipy.stats.ttest_ind(df_filtered[col1],df_filtered[col2])"
   ]
  },
  {
   "cell_type": "code",
   "execution_count": null,
   "id": "26bf7de6",
   "metadata": {},
   "outputs": [],
   "source": []
  }
 ],
 "metadata": {
  "kernelspec": {
   "display_name": "hwrs564a",
   "language": "python",
   "name": "hwrs564a"
  },
  "language_info": {
   "codemirror_mode": {
    "name": "ipython",
    "version": 3
   },
   "file_extension": ".py",
   "mimetype": "text/x-python",
   "name": "python",
   "nbconvert_exporter": "python",
   "pygments_lexer": "ipython3",
   "version": "3.11.13"
  }
 },
 "nbformat": 4,
 "nbformat_minor": 5
}
